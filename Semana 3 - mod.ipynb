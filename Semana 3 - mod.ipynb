{
 "cells": [
  {
   "attachments": {},
   "cell_type": "markdown",
   "metadata": {},
   "source": [
    "Antes de empezar debemos importar los paquetes y módulos que vamos a necesitar durante este análisis. En concreto, vamos a importar el paquete de visualización *matplotlib*, el módulo *Pandas* para trabajar con datos tabulares y algunas funciones de *Spark*.\n",
    "\n",
    "***Nota: Al estar en windows no usare Spark ni Hadoop en esta oportunidad, lo hare creativamente con sqlite***"
   ]
  },
  {
   "cell_type": "code",
   "execution_count": 107,
   "metadata": {
    "collapsed": true
   },
   "outputs": [],
   "source": [
    "%matplotlib inline\n",
    "\n",
    "import pandas as pd\n",
    "import numpy as np\n",
    "from matplotlib import pyplot as plt\n",
    "import sqlite3 as sq"
   ]
  },
  {
   "attachments": {},
   "cell_type": "markdown",
   "metadata": {},
   "source": [
    "En las celdas siguientes configuramos un enlace para acceder a los datos de Hive y definimos dos Spark Dataframes que harán referencia a los datos de las dos tablas externas de Hive (voto_csv y usuario_csv)."
   ]
  },
  {
   "cell_type": "code",
   "execution_count": 108,
   "metadata": {
    "collapsed": false
   },
   "outputs": [],
   "source": [
    "sdf_user = sq.connect('usuarios.db')\n",
    "sdf_usuarios = pd.read_sql(\"SELECT * FROM usuarios\",sdf_user)\n",
    "sdf_votos = pd.read_sql(\"SELECT * FROM votos\",sdf_user)"
   ]
  },
  {
   "attachments": {},
   "cell_type": "markdown",
   "metadata": {},
   "source": [
    "Una vez inicializados estos objetos en Spark, podemos mostrar su modelo de datos para comprobar que todo es correcto."
   ]
  },
  {
   "cell_type": "code",
   "execution_count": 109,
   "metadata": {
    "collapsed": false
   },
   "outputs": [
    {
     "data": {
      "text/html": [
       "<div>\n",
       "<style scoped>\n",
       "    .dataframe tbody tr th:only-of-type {\n",
       "        vertical-align: middle;\n",
       "    }\n",
       "\n",
       "    .dataframe tbody tr th {\n",
       "        vertical-align: top;\n",
       "    }\n",
       "\n",
       "    .dataframe thead th {\n",
       "        text-align: right;\n",
       "    }\n",
       "</style>\n",
       "<table border=\"1\" class=\"dataframe\">\n",
       "  <thead>\n",
       "    <tr style=\"text-align: right;\">\n",
       "      <th></th>\n",
       "      <th>id_galaxia</th>\n",
       "      <th>id_usuario</th>\n",
       "      <th>forma</th>\n",
       "      <th>tiempo</th>\n",
       "    </tr>\n",
       "  </thead>\n",
       "  <tbody>\n",
       "    <tr>\n",
       "      <th>0</th>\n",
       "      <td>587739829276311756</td>\n",
       "      <td>10404</td>\n",
       "      <td>1</td>\n",
       "      <td>6.614253</td>\n",
       "    </tr>\n",
       "    <tr>\n",
       "      <th>1</th>\n",
       "      <td>587744728760910031</td>\n",
       "      <td>10404</td>\n",
       "      <td>1</td>\n",
       "      <td>35.489287</td>\n",
       "    </tr>\n",
       "    <tr>\n",
       "      <th>2</th>\n",
       "      <td>587738195050823924</td>\n",
       "      <td>10404</td>\n",
       "      <td>0</td>\n",
       "      <td>2.594505</td>\n",
       "    </tr>\n",
       "    <tr>\n",
       "      <th>3</th>\n",
       "      <td>587735349639184468</td>\n",
       "      <td>10404</td>\n",
       "      <td>1</td>\n",
       "      <td>3.218166</td>\n",
       "    </tr>\n",
       "    <tr>\n",
       "      <th>4</th>\n",
       "      <td>588017726552015023</td>\n",
       "      <td>10404</td>\n",
       "      <td>1</td>\n",
       "      <td>7.687656</td>\n",
       "    </tr>\n",
       "    <tr>\n",
       "      <th>...</th>\n",
       "      <td>...</td>\n",
       "      <td>...</td>\n",
       "      <td>...</td>\n",
       "      <td>...</td>\n",
       "    </tr>\n",
       "    <tr>\n",
       "      <th>379144</th>\n",
       "      <td>587732482729771307</td>\n",
       "      <td>3071</td>\n",
       "      <td>0</td>\n",
       "      <td>3.647347</td>\n",
       "    </tr>\n",
       "    <tr>\n",
       "      <th>379145</th>\n",
       "      <td>587731891649904717</td>\n",
       "      <td>14865</td>\n",
       "      <td>0</td>\n",
       "      <td>1.638407</td>\n",
       "    </tr>\n",
       "    <tr>\n",
       "      <th>379146</th>\n",
       "      <td>587725819092467967</td>\n",
       "      <td>13786</td>\n",
       "      <td>1</td>\n",
       "      <td>2.872656</td>\n",
       "    </tr>\n",
       "    <tr>\n",
       "      <th>379147</th>\n",
       "      <td>587735043078357082</td>\n",
       "      <td>10871</td>\n",
       "      <td>0</td>\n",
       "      <td>5.091615</td>\n",
       "    </tr>\n",
       "    <tr>\n",
       "      <th>379148</th>\n",
       "      <td>587727223022223605</td>\n",
       "      <td>3693</td>\n",
       "      <td>0</td>\n",
       "      <td>0.413609</td>\n",
       "    </tr>\n",
       "  </tbody>\n",
       "</table>\n",
       "<p>379149 rows × 4 columns</p>\n",
       "</div>"
      ],
      "text/plain": [
       "                id_galaxia  id_usuario  forma     tiempo\n",
       "0       587739829276311756       10404      1   6.614253\n",
       "1       587744728760910031       10404      1  35.489287\n",
       "2       587738195050823924       10404      0   2.594505\n",
       "3       587735349639184468       10404      1   3.218166\n",
       "4       588017726552015023       10404      1   7.687656\n",
       "...                    ...         ...    ...        ...\n",
       "379144  587732482729771307        3071      0   3.647347\n",
       "379145  587731891649904717       14865      0   1.638407\n",
       "379146  587725819092467967       13786      1   2.872656\n",
       "379147  587735043078357082       10871      0   5.091615\n",
       "379148  587727223022223605        3693      0   0.413609\n",
       "\n",
       "[379149 rows x 4 columns]"
      ]
     },
     "execution_count": 109,
     "metadata": {},
     "output_type": "execute_result"
    }
   ],
   "source": [
    "sdf_votos"
   ]
  },
  {
   "cell_type": "code",
   "execution_count": 110,
   "metadata": {
    "collapsed": false
   },
   "outputs": [
    {
     "data": {
      "text/html": [
       "<div>\n",
       "<style scoped>\n",
       "    .dataframe tbody tr th:only-of-type {\n",
       "        vertical-align: middle;\n",
       "    }\n",
       "\n",
       "    .dataframe tbody tr th {\n",
       "        vertical-align: top;\n",
       "    }\n",
       "\n",
       "    .dataframe thead th {\n",
       "        text-align: right;\n",
       "    }\n",
       "</style>\n",
       "<table border=\"1\" class=\"dataframe\">\n",
       "  <thead>\n",
       "    <tr style=\"text-align: right;\">\n",
       "      <th></th>\n",
       "      <th>id_usuario</th>\n",
       "      <th>edad</th>\n",
       "      <th>pais</th>\n",
       "    </tr>\n",
       "  </thead>\n",
       "  <tbody>\n",
       "    <tr>\n",
       "      <th>0</th>\n",
       "      <td>1</td>\n",
       "      <td>39</td>\n",
       "      <td>Bolívia</td>\n",
       "    </tr>\n",
       "    <tr>\n",
       "      <th>1</th>\n",
       "      <td>3</td>\n",
       "      <td>40</td>\n",
       "      <td>Nicaragua</td>\n",
       "    </tr>\n",
       "    <tr>\n",
       "      <th>2</th>\n",
       "      <td>4</td>\n",
       "      <td>36</td>\n",
       "      <td>España</td>\n",
       "    </tr>\n",
       "    <tr>\n",
       "      <th>3</th>\n",
       "      <td>5</td>\n",
       "      <td>26</td>\n",
       "      <td>Argentina</td>\n",
       "    </tr>\n",
       "    <tr>\n",
       "      <th>4</th>\n",
       "      <td>6</td>\n",
       "      <td>28</td>\n",
       "      <td>Costa Rica</td>\n",
       "    </tr>\n",
       "    <tr>\n",
       "      <th>...</th>\n",
       "      <td>...</td>\n",
       "      <td>...</td>\n",
       "      <td>...</td>\n",
       "    </tr>\n",
       "    <tr>\n",
       "      <th>14914</th>\n",
       "      <td>15232</td>\n",
       "      <td>46</td>\n",
       "      <td>Venezuela</td>\n",
       "    </tr>\n",
       "    <tr>\n",
       "      <th>14915</th>\n",
       "      <td>15233</td>\n",
       "      <td>38</td>\n",
       "      <td>Venezuela</td>\n",
       "    </tr>\n",
       "    <tr>\n",
       "      <th>14916</th>\n",
       "      <td>15234</td>\n",
       "      <td>64</td>\n",
       "      <td>México</td>\n",
       "    </tr>\n",
       "    <tr>\n",
       "      <th>14917</th>\n",
       "      <td>15235</td>\n",
       "      <td>45</td>\n",
       "      <td>España</td>\n",
       "    </tr>\n",
       "    <tr>\n",
       "      <th>14918</th>\n",
       "      <td>15236</td>\n",
       "      <td>32</td>\n",
       "      <td>República Dominicana</td>\n",
       "    </tr>\n",
       "  </tbody>\n",
       "</table>\n",
       "<p>14919 rows × 3 columns</p>\n",
       "</div>"
      ],
      "text/plain": [
       "       id_usuario  edad                  pais\n",
       "0               1    39               Bolívia\n",
       "1               3    40             Nicaragua\n",
       "2               4    36                España\n",
       "3               5    26             Argentina\n",
       "4               6    28            Costa Rica\n",
       "...           ...   ...                   ...\n",
       "14914       15232    46             Venezuela\n",
       "14915       15233    38             Venezuela\n",
       "14916       15234    64                México\n",
       "14917       15235    45                España\n",
       "14918       15236    32  República Dominicana\n",
       "\n",
       "[14919 rows x 3 columns]"
      ]
     },
     "execution_count": 110,
     "metadata": {},
     "output_type": "execute_result"
    }
   ],
   "source": [
    "sdf_usuarios"
   ]
  },
  {
   "attachments": {},
   "cell_type": "markdown",
   "metadata": {},
   "source": [
    "# Estudio y limpieza de los datos de usuario\n",
    "\n",
    "Para empezar, vamos a mostrar algunos registros de usuarios usando el método *show*"
   ]
  },
  {
   "cell_type": "code",
   "execution_count": 111,
   "metadata": {
    "collapsed": false
   },
   "outputs": [
    {
     "data": {
      "text/html": [
       "<div>\n",
       "<style scoped>\n",
       "    .dataframe tbody tr th:only-of-type {\n",
       "        vertical-align: middle;\n",
       "    }\n",
       "\n",
       "    .dataframe tbody tr th {\n",
       "        vertical-align: top;\n",
       "    }\n",
       "\n",
       "    .dataframe thead th {\n",
       "        text-align: right;\n",
       "    }\n",
       "</style>\n",
       "<table border=\"1\" class=\"dataframe\">\n",
       "  <thead>\n",
       "    <tr style=\"text-align: right;\">\n",
       "      <th></th>\n",
       "      <th>id_usuario</th>\n",
       "      <th>edad</th>\n",
       "      <th>pais</th>\n",
       "    </tr>\n",
       "  </thead>\n",
       "  <tbody>\n",
       "    <tr>\n",
       "      <th>0</th>\n",
       "      <td>1</td>\n",
       "      <td>39</td>\n",
       "      <td>Bolívia</td>\n",
       "    </tr>\n",
       "    <tr>\n",
       "      <th>1</th>\n",
       "      <td>3</td>\n",
       "      <td>40</td>\n",
       "      <td>Nicaragua</td>\n",
       "    </tr>\n",
       "    <tr>\n",
       "      <th>2</th>\n",
       "      <td>4</td>\n",
       "      <td>36</td>\n",
       "      <td>España</td>\n",
       "    </tr>\n",
       "    <tr>\n",
       "      <th>3</th>\n",
       "      <td>5</td>\n",
       "      <td>26</td>\n",
       "      <td>Argentina</td>\n",
       "    </tr>\n",
       "    <tr>\n",
       "      <th>4</th>\n",
       "      <td>6</td>\n",
       "      <td>28</td>\n",
       "      <td>Costa Rica</td>\n",
       "    </tr>\n",
       "  </tbody>\n",
       "</table>\n",
       "</div>"
      ],
      "text/plain": [
       "   id_usuario  edad        pais\n",
       "0           1    39     Bolívia\n",
       "1           3    40   Nicaragua\n",
       "2           4    36      España\n",
       "3           5    26   Argentina\n",
       "4           6    28  Costa Rica"
      ]
     },
     "execution_count": 111,
     "metadata": {},
     "output_type": "execute_result"
    }
   ],
   "source": [
    "sdf_usuarios.head(5)"
   ]
  },
  {
   "attachments": {},
   "cell_type": "markdown",
   "metadata": {},
   "source": [
    "Y podemos contar cuantos usuarios han participado en total usando la método *count()*."
   ]
  },
  {
   "cell_type": "code",
   "execution_count": 112,
   "metadata": {
    "collapsed": false
   },
   "outputs": [
    {
     "data": {
      "text/plain": [
       "id_usuario    14919\n",
       "edad          14919\n",
       "pais          14919\n",
       "dtype: int64"
      ]
     },
     "execution_count": 112,
     "metadata": {},
     "output_type": "execute_result"
    }
   ],
   "source": [
    "sdf_usuarios.count()"
   ]
  },
  {
   "attachments": {},
   "cell_type": "markdown",
   "metadata": {},
   "source": [
    "## País"
   ]
  },
  {
   "attachments": {},
   "cell_type": "markdown",
   "metadata": {},
   "source": [
    "Para empezar, vamos a generar un histograma con los paises de todos los usuarios que han participado usando las funcionalidades presentes en Spark. Para ello, ejecuta la celda siguiente:"
   ]
  },
  {
   "cell_type": "code",
   "execution_count": 113,
   "metadata": {
    "collapsed": false
   },
   "outputs": [
    {
     "data": {
      "text/plain": [
       "pais\n",
       "Argentina     1403\n",
       "Bolívia        358\n",
       "Chile          530\n",
       "Colombia      1636\n",
       "Costa Rica     155\n",
       "Name: pais, dtype: int64"
      ]
     },
     "execution_count": 113,
     "metadata": {},
     "output_type": "execute_result"
    }
   ],
   "source": [
    "hist_usuarios_pais = sdf_usuarios.groupby('pais')[\"pais\"].count()\n",
    "hist_usuarios_pais.head()"
   ]
  },
  {
   "attachments": {},
   "cell_type": "markdown",
   "metadata": {},
   "source": [
    "La celda anterior agrupa los usuarios según su país y luego cuenta el número de usuarios que hay en cada grupo (país).\n",
    "Podemos visualizar esta información con las funcionalidades de Matplotlib que están integradas en Pandas. Ejecuta la celda siguiente para mostrar el histograma como un gráfico de barras:"
   ]
  },
  {
   "cell_type": "code",
   "execution_count": 114,
   "metadata": {
    "collapsed": false
   },
   "outputs": [
    {
     "data": {
      "text/plain": [
       "<Axes: xlabel='pais'>"
      ]
     },
     "execution_count": 114,
     "metadata": {},
     "output_type": "execute_result"
    },
    {
     "data": {
      "image/png": "[encoded data removed]",
      "text/plain": [
       "<Figure size 640x480 with 1 Axes>"
      ]
     },
     "metadata": {},
     "output_type": "display_data"
    }
   ],
   "source": [
    "hist_usuarios_pais.plot(kind='bar')"
   ]
  },
  {
   "attachments": {},
   "cell_type": "markdown",
   "metadata": {},
   "source": [
    "En el gráfico anterior, en el eje X nos muestra la posición en lugar del nombre del país. Para cambiar esto, nos conviene definir el índice del Pandas DataFrame usando el método *set_index*. Ejecuta la siguente celda para ver el resultado:"
   ]
  },
  {
   "cell_type": "code",
   "execution_count": 115,
   "metadata": {
    "collapsed": false
   },
   "outputs": [],
   "source": [
    "# No es Necesario\n",
    "\n",
    "#hist_usuarios_pais.set_index('pais').plot(kind='bar')"
   ]
  },
  {
   "attachments": {},
   "cell_type": "markdown",
   "metadata": {},
   "source": [
    "Ahora podemos ver claramente que el país que más participantes ha tenido (más de 4000) ha sido México, y el que menos, parece ser Uruguay. Como no queda muy claro, vamos a ordenar los valores de este histograma usando el método *sort_values*. Ejecuta la celda siguiente para ver el resultado:"
   ]
  },
  {
   "cell_type": "code",
   "execution_count": 116,
   "metadata": {
    "collapsed": false
   },
   "outputs": [
    {
     "data": {
      "text/plain": [
       "<Axes: xlabel='pais'>"
      ]
     },
     "execution_count": 116,
     "metadata": {},
     "output_type": "execute_result"
    },
    {
     "data": {
      "image/png": "[encoded data removed]",
      "text/plain": [
       "<Figure size 640x480 with 1 Axes>"
      ]
     },
     "metadata": {},
     "output_type": "display_data"
    }
   ],
   "source": [
    "hist_usuarios_pais.sort_values().plot(kind='bar')"
   ]
  },
  {
   "attachments": {},
   "cell_type": "markdown",
   "metadata": {},
   "source": [
    "Ahora sí podemos ver claramente que Uruguay es el país que menos participantes ha tenido, aunque seguido bien de cerca por Panamá o Puerto Rico, entre otros."
   ]
  },
  {
   "attachments": {},
   "cell_type": "markdown",
   "metadata": {},
   "source": [
    "## Edad"
   ]
  },
  {
   "attachments": {},
   "cell_type": "markdown",
   "metadata": {},
   "source": [
    "En segundo lugar, vamos a estudiar la distribución de edades de los participantes. Para ello, vamos a construir un histogramamuy similar al anterior pero, en este caso, en lugar de agrupar por país, vamos a agrupar por edad. Completa la linea siguiente para generar los datos del histograma:"
   ]
  },
  {
   "cell_type": "code",
   "execution_count": 117,
   "metadata": {
    "collapsed": false
   },
   "outputs": [
    {
     "data": {
      "image/png": "[encoded data removed]",
      "text/plain": [
       "<Figure size 640x480 with 1 Axes>"
      ]
     },
     "metadata": {},
     "output_type": "display_data"
    }
   ],
   "source": [
    "\n",
    "# Obtener el histograma de votos por edad\n",
    "hist_votos_edad = sdf_usuarios.groupby('edad')[\"edad\"].count()\n",
    "\n",
    "# Crear el gráfico de barras\n",
    "ax = hist_votos_edad.plot(kind='bar')\n",
    "\n",
    "# Definir los ticks del eje x\n",
    "xticks = range(0, len(hist_votos_edad), 3)\n",
    "ax.set_xticks(xticks)\n",
    "\n",
    "# Mostrar el gráfico\n",
    "plt.show()"
   ]
  },
  {
   "attachments": {},
   "cell_type": "markdown",
   "metadata": {},
   "source": [
    "Para mostrar los datos de este histograma usaremos otro tipo de gráfico, llamado \"scatter\". Si todo ha ido bien en la celda anterior, ejecuta la celda siguiente para visualizar el gráfico:"
   ]
  },
  {
   "cell_type": "code",
   "execution_count": 118,
   "metadata": {
    "collapsed": false
   },
   "outputs": [
    {
     "data": {
      "text/plain": [
       "<Axes: xlabel='edad', ylabel='pais'>"
      ]
     },
     "execution_count": 118,
     "metadata": {},
     "output_type": "execute_result"
    },
    {
     "data": {
      "image/png": "[encoded data removed]",
      "text/plain": [
       "<Figure size 640x480 with 1 Axes>"
      ]
     },
     "metadata": {},
     "output_type": "display_data"
    }
   ],
   "source": [
    "#hist_usuarios_edad.plot('edad', 'count', kind='scatter')\n",
    "sdf_usuarios.plot(\"edad\",\"pais\",kind=\"scatter\")"
   ]
  },
  {
   "attachments": {},
   "cell_type": "markdown",
   "metadata": {},
   "source": [
    "En este gráfico podemos ver como hay participantes menores de 10 años y mayores de 100. Más adelante nos va a interesar filtrar los votos de estos usuarios, pues pueden ser poco fiables. Vamos a ver cuantos usuarios hay que tengan menos de 10 años, para ello, ejecuta la celda siguiente:"
   ]
  },
  {
   "cell_type": "code",
   "execution_count": 119,
   "metadata": {
    "collapsed": false
   },
   "outputs": [
    {
     "data": {
      "text/plain": [
       "8"
      ]
     },
     "execution_count": 119,
     "metadata": {},
     "output_type": "execute_result"
    }
   ],
   "source": [
    "sdf_usuarios.query('edad < 10')[\"edad\"].count()"
   ]
  },
  {
   "attachments": {},
   "cell_type": "markdown",
   "metadata": {},
   "source": [
    "Deberías haber obtenido un resultado de 8 usuarios menores de 10 años. Para saber cuántos usuarios mayores de 100 años han participado, completa la celda siguiente y ejecútala:"
   ]
  },
  {
   "cell_type": "code",
   "execution_count": 120,
   "metadata": {
    "collapsed": false
   },
   "outputs": [
    {
     "data": {
      "text/plain": [
       "7"
      ]
     },
     "execution_count": 120,
     "metadata": {},
     "output_type": "execute_result"
    }
   ],
   "source": [
    "sdf_usuarios.query('edad > 100')[\"edad\"].count()"
   ]
  },
  {
   "attachments": {},
   "cell_type": "markdown",
   "metadata": {},
   "source": [
    "Deberías haber obtenido 7 como resultado.\n",
    "\n",
    "Finalmente, vamos a generar el conjunto de datos limpio filtrando sólo los usuarios que tengan edades comprendidas entre los 10 y los 100 años, ambos incluidos. En la celda siguiente, generamos este conjunto de datos limpio y contamos cuantos usuarios nos han quedado."
   ]
  },
  {
   "cell_type": "code",
   "execution_count": 121,
   "metadata": {
    "collapsed": false
   },
   "outputs": [
    {
     "data": {
      "text/plain": [
       "id_usuario    14904\n",
       "edad          14904\n",
       "pais          14904\n",
       "dtype: int64"
      ]
     },
     "execution_count": 121,
     "metadata": {},
     "output_type": "execute_result"
    }
   ],
   "source": [
    "sdf_usuarios_limpio = sdf_usuarios.query('edad >= 10 and edad <= 100')\n",
    "sdf_usuarios_limpio.count()"
   ]
  },
  {
   "attachments": {},
   "cell_type": "markdown",
   "metadata": {},
   "source": [
    "Deberían quedarnos $14919 - 8 - 7 = 14904$"
   ]
  },
  {
   "cell_type": "code",
   "execution_count": 122,
   "metadata": {},
   "outputs": [
    {
     "data": {
      "text/html": [
       "<div>\n",
       "<style scoped>\n",
       "    .dataframe tbody tr th:only-of-type {\n",
       "        vertical-align: middle;\n",
       "    }\n",
       "\n",
       "    .dataframe tbody tr th {\n",
       "        vertical-align: top;\n",
       "    }\n",
       "\n",
       "    .dataframe thead th {\n",
       "        text-align: right;\n",
       "    }\n",
       "</style>\n",
       "<table border=\"1\" class=\"dataframe\">\n",
       "  <thead>\n",
       "    <tr style=\"text-align: right;\">\n",
       "      <th></th>\n",
       "      <th>id_usuario</th>\n",
       "      <th>edad</th>\n",
       "      <th>pais</th>\n",
       "    </tr>\n",
       "  </thead>\n",
       "  <tbody>\n",
       "    <tr>\n",
       "      <th>0</th>\n",
       "      <td>1</td>\n",
       "      <td>39</td>\n",
       "      <td>Bolívia</td>\n",
       "    </tr>\n",
       "    <tr>\n",
       "      <th>1</th>\n",
       "      <td>3</td>\n",
       "      <td>40</td>\n",
       "      <td>Nicaragua</td>\n",
       "    </tr>\n",
       "    <tr>\n",
       "      <th>2</th>\n",
       "      <td>4</td>\n",
       "      <td>36</td>\n",
       "      <td>España</td>\n",
       "    </tr>\n",
       "    <tr>\n",
       "      <th>3</th>\n",
       "      <td>5</td>\n",
       "      <td>26</td>\n",
       "      <td>Argentina</td>\n",
       "    </tr>\n",
       "    <tr>\n",
       "      <th>4</th>\n",
       "      <td>6</td>\n",
       "      <td>28</td>\n",
       "      <td>Costa Rica</td>\n",
       "    </tr>\n",
       "    <tr>\n",
       "      <th>...</th>\n",
       "      <td>...</td>\n",
       "      <td>...</td>\n",
       "      <td>...</td>\n",
       "    </tr>\n",
       "    <tr>\n",
       "      <th>14914</th>\n",
       "      <td>15232</td>\n",
       "      <td>46</td>\n",
       "      <td>Venezuela</td>\n",
       "    </tr>\n",
       "    <tr>\n",
       "      <th>14915</th>\n",
       "      <td>15233</td>\n",
       "      <td>38</td>\n",
       "      <td>Venezuela</td>\n",
       "    </tr>\n",
       "    <tr>\n",
       "      <th>14916</th>\n",
       "      <td>15234</td>\n",
       "      <td>64</td>\n",
       "      <td>México</td>\n",
       "    </tr>\n",
       "    <tr>\n",
       "      <th>14917</th>\n",
       "      <td>15235</td>\n",
       "      <td>45</td>\n",
       "      <td>España</td>\n",
       "    </tr>\n",
       "    <tr>\n",
       "      <th>14918</th>\n",
       "      <td>15236</td>\n",
       "      <td>32</td>\n",
       "      <td>República Dominicana</td>\n",
       "    </tr>\n",
       "  </tbody>\n",
       "</table>\n",
       "<p>14904 rows × 3 columns</p>\n",
       "</div>"
      ],
      "text/plain": [
       "       id_usuario  edad                  pais\n",
       "0               1    39               Bolívia\n",
       "1               3    40             Nicaragua\n",
       "2               4    36                España\n",
       "3               5    26             Argentina\n",
       "4               6    28            Costa Rica\n",
       "...           ...   ...                   ...\n",
       "14914       15232    46             Venezuela\n",
       "14915       15233    38             Venezuela\n",
       "14916       15234    64                México\n",
       "14917       15235    45                España\n",
       "14918       15236    32  República Dominicana\n",
       "\n",
       "[14904 rows x 3 columns]"
      ]
     },
     "execution_count": 122,
     "metadata": {},
     "output_type": "execute_result"
    }
   ],
   "source": [
    "sdf_usuarios_limpio"
   ]
  },
  {
   "attachments": {},
   "cell_type": "markdown",
   "metadata": {},
   "source": [
    "# Estudio y limpieza de los datos de votos\n",
    "\n",
    "Una vez analizados los datos de los usuarios, vamos a hacer lo mismo con los votos. Ejecuta la celda siguiente para ver información de algunos votos:"
   ]
  },
  {
   "cell_type": "code",
   "execution_count": 123,
   "metadata": {
    "collapsed": false,
    "scrolled": true
   },
   "outputs": [
    {
     "data": {
      "text/html": [
       "<div>\n",
       "<style scoped>\n",
       "    .dataframe tbody tr th:only-of-type {\n",
       "        vertical-align: middle;\n",
       "    }\n",
       "\n",
       "    .dataframe tbody tr th {\n",
       "        vertical-align: top;\n",
       "    }\n",
       "\n",
       "    .dataframe thead th {\n",
       "        text-align: right;\n",
       "    }\n",
       "</style>\n",
       "<table border=\"1\" class=\"dataframe\">\n",
       "  <thead>\n",
       "    <tr style=\"text-align: right;\">\n",
       "      <th></th>\n",
       "      <th>id_galaxia</th>\n",
       "      <th>id_usuario</th>\n",
       "      <th>forma</th>\n",
       "      <th>tiempo</th>\n",
       "    </tr>\n",
       "  </thead>\n",
       "  <tbody>\n",
       "    <tr>\n",
       "      <th>0</th>\n",
       "      <td>587739829276311756</td>\n",
       "      <td>10404</td>\n",
       "      <td>1</td>\n",
       "      <td>6.614253</td>\n",
       "    </tr>\n",
       "    <tr>\n",
       "      <th>1</th>\n",
       "      <td>587744728760910031</td>\n",
       "      <td>10404</td>\n",
       "      <td>1</td>\n",
       "      <td>35.489287</td>\n",
       "    </tr>\n",
       "    <tr>\n",
       "      <th>2</th>\n",
       "      <td>587738195050823924</td>\n",
       "      <td>10404</td>\n",
       "      <td>0</td>\n",
       "      <td>2.594505</td>\n",
       "    </tr>\n",
       "    <tr>\n",
       "      <th>3</th>\n",
       "      <td>587735349639184468</td>\n",
       "      <td>10404</td>\n",
       "      <td>1</td>\n",
       "      <td>3.218166</td>\n",
       "    </tr>\n",
       "    <tr>\n",
       "      <th>4</th>\n",
       "      <td>588017726552015023</td>\n",
       "      <td>10404</td>\n",
       "      <td>1</td>\n",
       "      <td>7.687656</td>\n",
       "    </tr>\n",
       "  </tbody>\n",
       "</table>\n",
       "</div>"
      ],
      "text/plain": [
       "           id_galaxia  id_usuario  forma     tiempo\n",
       "0  587739829276311756       10404      1   6.614253\n",
       "1  587744728760910031       10404      1  35.489287\n",
       "2  587738195050823924       10404      0   2.594505\n",
       "3  587735349639184468       10404      1   3.218166\n",
       "4  588017726552015023       10404      1   7.687656"
      ]
     },
     "execution_count": 123,
     "metadata": {},
     "output_type": "execute_result"
    }
   ],
   "source": [
    "sdf_votos.head(5)"
   ]
  },
  {
   "attachments": {},
   "cell_type": "markdown",
   "metadata": {},
   "source": [
    "Y podemos contar cuantos votos hemos recodigo en total usando la método *count()*."
   ]
  },
  {
   "cell_type": "code",
   "execution_count": 124,
   "metadata": {
    "collapsed": false
   },
   "outputs": [
    {
     "data": {
      "text/plain": [
       "id_galaxia    379149\n",
       "id_usuario    379149\n",
       "forma         379149\n",
       "tiempo        379149\n",
       "dtype: int64"
      ]
     },
     "execution_count": 124,
     "metadata": {},
     "output_type": "execute_result"
    }
   ],
   "source": [
    "sdf_votos.count()"
   ]
  },
  {
   "attachments": {},
   "cell_type": "markdown",
   "metadata": {},
   "source": [
    "## Tiempo de respuesta\n",
    "\n",
    "Ahora vamos a estudiar la distribución del tiempo de respuesta, para ver cómo de rápido han sido los participantes a la hora de clasificar las galaxias según su forma.\n",
    "\n",
    "Como puedes observar en el resultado mostrado en la celda anterior, en este caso tenemos una complejidad adicional que es el hecho de que el tiempo de respuesta no es un valor con el cual podamos agrupar directamente, ya que no es un valor categórico y cada voto tiene un tiempo de respuesta distinto.\n",
    "\n",
    "Para poder agrupar los distintos votos, deberemos crear categorías artificiales, por ejemplo agrupando los tiempos de respuesta en bloques de un segundo. Para llevar a cabo esta agrupación podemos usar la función *floor* en la que, dado un tiempo de respuesta, nos va a devolver la parte entera despreciando la parte decimal. De esta manera, varios votos que hayan tardado 3.425, 3.019 o 3.978 segundos van a quedar agrupados en la misma categoria, los que han tardado de 3 a 4 segundos.\n",
    "\n",
    "Vamos a generar esta columna extra con el método *withColumn* aplicando esta función *floor*. Ejecuta la celda siguiente para ver esta nueva columna:"
   ]
  },
  {
   "cell_type": "code",
   "execution_count": 125,
   "metadata": {
    "collapsed": false
   },
   "outputs": [
    {
     "data": {
      "text/plain": [
       "0          6\n",
       "1         35\n",
       "2          2\n",
       "3          3\n",
       "4          7\n",
       "          ..\n",
       "379144     3\n",
       "379145     1\n",
       "379146     2\n",
       "379147     5\n",
       "379148     0\n",
       "Name: segundos, Length: 379149, dtype: int32"
      ]
     },
     "execution_count": 125,
     "metadata": {},
     "output_type": "execute_result"
    }
   ],
   "source": [
    "sdf_votos[\"segundos\"] = sdf_votos[\"tiempo\"].astype(int)\n",
    "sdf_votos[\"segundos\"]"
   ]
  },
  {
   "attachments": {},
   "cell_type": "markdown",
   "metadata": {},
   "source": [
    "Fíjate como a varios valores de la columna tiempo se les asigna el mismo número de segundos. Ahora ya sí podemos agrupar por esta columna nueva y generar el histograma."
   ]
  },
  {
   "cell_type": "code",
   "execution_count": 126,
   "metadata": {
    "collapsed": false
   },
   "outputs": [
    {
     "data": {
      "image/png": "[encoded data removed]",
      "text/plain": [
       "<Figure size 640x480 with 1 Axes>"
      ]
     },
     "metadata": {},
     "output_type": "display_data"
    }
   ],
   "source": [
    "# Obtener el histograma de votos por segundos\n",
    "hist_votos_tiempo = sdf_votos.groupby('segundos')['segundos'].count()\n",
    "\n",
    "# Ordenar los valores\n",
    "hist_votos_tiempo = hist_votos_tiempo.sort_values()\n",
    "\n",
    "# Crear el gráfico de barras\n",
    "ax = hist_votos_tiempo.plot(kind='bar')\n",
    "\n",
    "# Definir los ticks del eje x\n",
    "xticks = range(0, len(hist_votos_tiempo), 10)\n",
    "ax.set_xticks(xticks)\n",
    "\n",
    "# Mostrar el gráfico\n",
    "plt.show()\n"
   ]
  },
  {
   "attachments": {},
   "cell_type": "markdown",
   "metadata": {},
   "source": [
    "Visualiza ahora tu mismo este mismo histograma usando un gráfico de tipo \"scatter\". Sólo tienes que completar la celda inferior y ejecutarla."
   ]
  },
  {
   "cell_type": "code",
   "execution_count": 127,
   "metadata": {
    "collapsed": false
   },
   "outputs": [],
   "source": [
    "#No es necesario\n",
    "#sdf_votos.plot('segundos', 'pais', kind = 'scatter')"
   ]
  },
  {
   "attachments": {},
   "cell_type": "markdown",
   "metadata": {},
   "source": [
    "Lo primero que podemos ver en este gráfico es que parece ser que hay clasificaciones donde el usuario se ha tomado su tiempo para decidirse. Hay bastantes votos en los que el usuario ha necesitado más de 60 segundos para decidirse, incluso algunos han tardado más de 300 segundos (5 minutos). Es muy probable que no nos interese tener en cuenta estos votos, ya que la información que contienen podría ser problemática.\n",
    "\n",
    "Calcula el número de votos que han tomado 60 segundos o más en generarse completando y ejecutando la celda siguiente:"
   ]
  },
  {
   "cell_type": "code",
   "execution_count": 128,
   "metadata": {
    "collapsed": false
   },
   "outputs": [
    {
     "data": {
      "text/plain": [
       "2866"
      ]
     },
     "execution_count": 128,
     "metadata": {},
     "output_type": "execute_result"
    }
   ],
   "source": [
    "sdf_votos.query('tiempo >= 60')[\"tiempo\"].count()"
   ]
  },
  {
   "attachments": {},
   "cell_type": "markdown",
   "metadata": {},
   "source": [
    "Debería obtener el valor 2866.\n",
    "\n",
    "Por otro lado, en la visualización anterior perdemos el detalle de lo que sucede para tiempos reducidos. Hay un parámetro *xlim* que se le puede pasar al método *plot* para especificar el rango que queremos que nos muestre en el eje X. Añade este parámetro con el valor [-1, 30] en la siguiente celda y vuelve a generar el gráfico."
   ]
  },
  {
   "cell_type": "code",
   "execution_count": 129,
   "metadata": {
    "collapsed": false
   },
   "outputs": [],
   "source": [
    "#hist_votos_tiempo.plot(['segundos', 'count'], kind = 'scatter', xlim=[-1,30])"
   ]
  },
  {
   "attachments": {},
   "cell_type": "markdown",
   "metadata": {},
   "source": [
    "Si lo has hecho correctamente podrás observar como hay algunas clasificaciones que se han realizado en menos de un segundo, ya que aparecen agrupadas en la coordenada 0. Calcula el número de votos que se han realizado en menos de un segundo completando y ejecutando la celda siguiente:"
   ]
  },
  {
   "cell_type": "code",
   "execution_count": 130,
   "metadata": {
    "collapsed": false
   },
   "outputs": [
    {
     "data": {
      "text/plain": [
       "2639"
      ]
     },
     "execution_count": 130,
     "metadata": {},
     "output_type": "execute_result"
    }
   ],
   "source": [
    "sdf_votos.query('tiempo < 1')[\"tiempo\"].count()"
   ]
  },
  {
   "attachments": {},
   "cell_type": "markdown",
   "metadata": {},
   "source": [
    "Deberías obtener el valor 2639.\n",
    "\n",
    "Estos votos también podría interesarnos no tenerlos en cuenta, ya que es bastante probable que el usuario no le haya prestado suficiente atención.\n",
    "\n",
    "Para ir finalizando, vamos a generar un conjunto de datos limpio que sólo contenga los votos en los que el tiempo de respuesta sea mayor de un segundo y menor de sesenta. Completa la celda inferior para generar este conjunto de datos limpio y mostrar algunos registros."
   ]
  },
  {
   "cell_type": "code",
   "execution_count": 131,
   "metadata": {
    "collapsed": false
   },
   "outputs": [
    {
     "data": {
      "text/html": [
       "<div>\n",
       "<style scoped>\n",
       "    .dataframe tbody tr th:only-of-type {\n",
       "        vertical-align: middle;\n",
       "    }\n",
       "\n",
       "    .dataframe tbody tr th {\n",
       "        vertical-align: top;\n",
       "    }\n",
       "\n",
       "    .dataframe thead th {\n",
       "        text-align: right;\n",
       "    }\n",
       "</style>\n",
       "<table border=\"1\" class=\"dataframe\">\n",
       "  <thead>\n",
       "    <tr style=\"text-align: right;\">\n",
       "      <th></th>\n",
       "      <th>id_galaxia</th>\n",
       "      <th>id_usuario</th>\n",
       "      <th>forma</th>\n",
       "      <th>tiempo</th>\n",
       "      <th>segundos</th>\n",
       "    </tr>\n",
       "  </thead>\n",
       "  <tbody>\n",
       "    <tr>\n",
       "      <th>0</th>\n",
       "      <td>587739829276311756</td>\n",
       "      <td>10404</td>\n",
       "      <td>1</td>\n",
       "      <td>6.614253</td>\n",
       "      <td>6</td>\n",
       "    </tr>\n",
       "    <tr>\n",
       "      <th>1</th>\n",
       "      <td>587744728760910031</td>\n",
       "      <td>10404</td>\n",
       "      <td>1</td>\n",
       "      <td>35.489287</td>\n",
       "      <td>35</td>\n",
       "    </tr>\n",
       "    <tr>\n",
       "      <th>2</th>\n",
       "      <td>587738195050823924</td>\n",
       "      <td>10404</td>\n",
       "      <td>0</td>\n",
       "      <td>2.594505</td>\n",
       "      <td>2</td>\n",
       "    </tr>\n",
       "    <tr>\n",
       "      <th>3</th>\n",
       "      <td>587735349639184468</td>\n",
       "      <td>10404</td>\n",
       "      <td>1</td>\n",
       "      <td>3.218166</td>\n",
       "      <td>3</td>\n",
       "    </tr>\n",
       "    <tr>\n",
       "      <th>4</th>\n",
       "      <td>588017726552015023</td>\n",
       "      <td>10404</td>\n",
       "      <td>1</td>\n",
       "      <td>7.687656</td>\n",
       "      <td>7</td>\n",
       "    </tr>\n",
       "  </tbody>\n",
       "</table>\n",
       "</div>"
      ],
      "text/plain": [
       "           id_galaxia  id_usuario  forma     tiempo  segundos\n",
       "0  587739829276311756       10404      1   6.614253         6\n",
       "1  587744728760910031       10404      1  35.489287        35\n",
       "2  587738195050823924       10404      0   2.594505         2\n",
       "3  587735349639184468       10404      1   3.218166         3\n",
       "4  588017726552015023       10404      1   7.687656         7"
      ]
     },
     "execution_count": 131,
     "metadata": {},
     "output_type": "execute_result"
    }
   ],
   "source": [
    "sdf_votos_limpio = sdf_votos.query('tiempo > 1 and tiempo < 60')\n",
    "sdf_votos_limpio.head(5)"
   ]
  },
  {
   "attachments": {},
   "cell_type": "markdown",
   "metadata": {},
   "source": [
    "Y, por último, usa el método *count* en este conjunto de datos limpio para calcular cuantos votos nos han quedado después de sanear los datos."
   ]
  },
  {
   "cell_type": "code",
   "execution_count": 132,
   "metadata": {
    "collapsed": false
   },
   "outputs": [
    {
     "data": {
      "text/plain": [
       "373644"
      ]
     },
     "execution_count": 132,
     "metadata": {},
     "output_type": "execute_result"
    }
   ],
   "source": [
    "sdf_votos_limpio.count()[\"segundos\"]"
   ]
  },
  {
   "attachments": {},
   "cell_type": "markdown",
   "metadata": {},
   "source": [
    "# Combinación de los datos limpios\n",
    "\n",
    "Ahora que tenemos los dos conjuntos de datos limpios, vamos a combinarlos para estudiarlos en su conjunto. Para ello usaremos el método *join* para combinar ambos por la columna que tienen en común, que es el identificador del usuario."
   ]
  },
  {
   "cell_type": "code",
   "execution_count": 133,
   "metadata": {
    "collapsed": false
   },
   "outputs": [
    {
     "data": {
      "text/html": [
       "<div>\n",
       "<style scoped>\n",
       "    .dataframe tbody tr th:only-of-type {\n",
       "        vertical-align: middle;\n",
       "    }\n",
       "\n",
       "    .dataframe tbody tr th {\n",
       "        vertical-align: top;\n",
       "    }\n",
       "\n",
       "    .dataframe thead th {\n",
       "        text-align: right;\n",
       "    }\n",
       "</style>\n",
       "<table border=\"1\" class=\"dataframe\">\n",
       "  <thead>\n",
       "    <tr style=\"text-align: right;\">\n",
       "      <th></th>\n",
       "      <th>id_galaxia</th>\n",
       "      <th>id_usuario</th>\n",
       "      <th>forma</th>\n",
       "      <th>tiempo</th>\n",
       "      <th>segundos</th>\n",
       "      <th>edad</th>\n",
       "      <th>pais</th>\n",
       "    </tr>\n",
       "  </thead>\n",
       "  <tbody>\n",
       "    <tr>\n",
       "      <th>0</th>\n",
       "      <td>5.877398e+17</td>\n",
       "      <td>10404</td>\n",
       "      <td>1.0</td>\n",
       "      <td>6.614253</td>\n",
       "      <td>6.0</td>\n",
       "      <td>41.0</td>\n",
       "      <td>Argentina</td>\n",
       "    </tr>\n",
       "    <tr>\n",
       "      <th>1</th>\n",
       "      <td>5.877447e+17</td>\n",
       "      <td>10404</td>\n",
       "      <td>1.0</td>\n",
       "      <td>35.489287</td>\n",
       "      <td>35.0</td>\n",
       "      <td>41.0</td>\n",
       "      <td>Argentina</td>\n",
       "    </tr>\n",
       "    <tr>\n",
       "      <th>2</th>\n",
       "      <td>5.877382e+17</td>\n",
       "      <td>10404</td>\n",
       "      <td>0.0</td>\n",
       "      <td>2.594505</td>\n",
       "      <td>2.0</td>\n",
       "      <td>41.0</td>\n",
       "      <td>Argentina</td>\n",
       "    </tr>\n",
       "    <tr>\n",
       "      <th>3</th>\n",
       "      <td>5.877353e+17</td>\n",
       "      <td>10404</td>\n",
       "      <td>1.0</td>\n",
       "      <td>3.218166</td>\n",
       "      <td>3.0</td>\n",
       "      <td>41.0</td>\n",
       "      <td>Argentina</td>\n",
       "    </tr>\n",
       "    <tr>\n",
       "      <th>4</th>\n",
       "      <td>5.880177e+17</td>\n",
       "      <td>10404</td>\n",
       "      <td>1.0</td>\n",
       "      <td>7.687656</td>\n",
       "      <td>7.0</td>\n",
       "      <td>41.0</td>\n",
       "      <td>Argentina</td>\n",
       "    </tr>\n",
       "  </tbody>\n",
       "</table>\n",
       "</div>"
      ],
      "text/plain": [
       "     id_galaxia  id_usuario  forma     tiempo  segundos  edad       pais\n",
       "0  5.877398e+17       10404    1.0   6.614253       6.0  41.0  Argentina\n",
       "1  5.877447e+17       10404    1.0  35.489287      35.0  41.0  Argentina\n",
       "2  5.877382e+17       10404    0.0   2.594505       2.0  41.0  Argentina\n",
       "3  5.877353e+17       10404    1.0   3.218166       3.0  41.0  Argentina\n",
       "4  5.880177e+17       10404    1.0   7.687656       7.0  41.0  Argentina"
      ]
     },
     "execution_count": 133,
     "metadata": {},
     "output_type": "execute_result"
    }
   ],
   "source": [
    "sdf_combinado = pd.merge(sdf_votos_limpio, sdf_usuarios_limpio, on='id_usuario', how='outer')\n",
    "sdf_combinado.head()"
   ]
  },
  {
   "attachments": {},
   "cell_type": "markdown",
   "metadata": {},
   "source": [
    "Al combinar estos dos conjuntos de datos vamos a generar un conjunto de datos aún más limpio, ya que en la combinación se van a descartar todos los votos de aquellos usuarios que hemos filtrado por estar fuera del rango de edad.\n",
    "\n",
    "Calcula el número de registros del conjunto de datos combinados con el método *count*."
   ]
  },
  {
   "cell_type": "code",
   "execution_count": 134,
   "metadata": {
    "collapsed": false
   },
   "outputs": [
    {
     "data": {
      "text/plain": [
       "373455"
      ]
     },
     "execution_count": 134,
     "metadata": {},
     "output_type": "execute_result"
    }
   ],
   "source": [
    "sdf_combinado.count()[\"edad\"]"
   ]
  },
  {
   "attachments": {},
   "cell_type": "markdown",
   "metadata": {},
   "source": [
    "Deberías obtener el resultado 373451, lo que nos indica que en la combinación de los dos conjuntos de datos, se han descartado $373644 - 373451 = 193$ votos adicionales.\n",
    "\n",
    "## Votos según el país\n",
    "\n",
    "Ahora que tenemos los datos combinados, podemos sacar información adicional sobre estos datos. Por ejemplo, podemos calcular el histograma de número de votos por país. En la celda siguiente tienes el código para generar los datos para el histograma del número de votos por país."
   ]
  },
  {
   "cell_type": "code",
   "execution_count": 135,
   "metadata": {
    "collapsed": false
   },
   "outputs": [
    {
     "data": {
      "text/plain": [
       "pais\n",
       "Argentina                35385\n",
       "Bolívia                   9043\n",
       "Chile                    13217\n",
       "Colombia                 40772\n",
       "Costa Rica                3866\n",
       "Cuba                      9236\n",
       "Ecuador                  13360\n",
       "El Salvador               6851\n",
       "España                   39368\n",
       "Guatemala                11576\n",
       "Honduras                  6212\n",
       "México                  103783\n",
       "Nicaragua                 5242\n",
       "Panamá                    3011\n",
       "Paraguay                  5511\n",
       "Perú                     25504\n",
       "Puerto Rico               3514\n",
       "República Dominicana      8191\n",
       "Uruguay                   2752\n",
       "Venezuela                27061\n",
       "Name: pais, dtype: int64"
      ]
     },
     "execution_count": 135,
     "metadata": {},
     "output_type": "execute_result"
    }
   ],
   "source": [
    "hist_votos_pais = sdf_combinado.groupby('pais')['pais'].count()\n",
    "hist_votos_pais"
   ]
  },
  {
   "cell_type": "code",
   "execution_count": 136,
   "metadata": {
    "collapsed": false
   },
   "outputs": [
    {
     "data": {
      "text/plain": [
       "<Axes: xlabel='pais'>"
      ]
     },
     "execution_count": 136,
     "metadata": {},
     "output_type": "execute_result"
    },
    {
     "data": {
      "image/png": "[encoded data removed]",
      "text/plain": [
       "<Figure size 640x480 with 1 Axes>"
      ]
     },
     "metadata": {},
     "output_type": "display_data"
    }
   ],
   "source": [
    "hist_votos_pais.plot(kind='bar')"
   ]
  },
  {
   "attachments": {},
   "cell_type": "markdown",
   "metadata": {
    "collapsed": true
   },
   "source": [
    "Al igual que nos pasó al mostrar los datos del número de usuarios por país, en este gráfico nos aparece la posición del país en lugar de su nombre. Completa la celda inferior usando los métodos *set_index* y *sort_values* para generar una visualización donde aparezca el nombre el país en el eje X y los valores del histograma estén ordenados."
   ]
  },
  {
   "cell_type": "code",
   "execution_count": 137,
   "metadata": {
    "collapsed": false
   },
   "outputs": [
    {
     "data": {
      "text/plain": [
       "<Axes: xlabel='pais'>"
      ]
     },
     "execution_count": 137,
     "metadata": {},
     "output_type": "execute_result"
    },
    {
     "data": {
      "image/png": "[encoded data removed]",
      "text/plain": [
       "<Figure size 640x480 with 1 Axes>"
      ]
     },
     "metadata": {},
     "output_type": "display_data"
    }
   ],
   "source": [
    "hist_votos_pais.sort_values().plot(kind='bar')"
   ]
  },
  {
   "attachments": {},
   "cell_type": "markdown",
   "metadata": {},
   "source": [
    "Como era de esperar México sigue liderando en el recuento de votos al tener también el mayor número de usuarios participantes.\n",
    "\n",
    "El problema con esta visualización es que no podemos determinar si los usuarios de México o los de cualquier otro país han sido más productivos que el resto. Es decir, si los usuarios de algún país han sido generado, de media, más votos de los de otros países. Para saber esto, podemos calcular el número medio de votos por usuario de cada país, dividiendo los datos de los dos histogramas (el de número de votos por país y el de número de usuarios por país)."
   ]
  },
  {
   "cell_type": "code",
   "execution_count": 138,
   "metadata": {
    "collapsed": false
   },
   "outputs": [
    {
     "data": {
      "text/plain": [
       "pais\n",
       "Argentina               25.220955\n",
       "Bolívia                 25.259777\n",
       "Chile                   24.937736\n",
       "Colombia                24.921760\n",
       "Costa Rica              24.941935\n",
       "Cuba                    25.097826\n",
       "Ecuador                 25.018727\n",
       "El Salvador             25.187500\n",
       "España                  25.027336\n",
       "Guatemala               25.110629\n",
       "Honduras                25.149798\n",
       "México                  24.888010\n",
       "Nicaragua               25.323671\n",
       "Panamá                  26.182609\n",
       "Paraguay                25.050000\n",
       "Perú                    25.351889\n",
       "Puerto Rico             24.921986\n",
       "República Dominicana    24.972561\n",
       "Uruguay                 24.792793\n",
       "Venezuela               24.964022\n",
       "Name: pais, dtype: float64"
      ]
     },
     "execution_count": 138,
     "metadata": {},
     "output_type": "execute_result"
    }
   ],
   "source": [
    "hist_media_voto_pais = hist_votos_pais / hist_usuarios_pais\n",
    "hist_media_voto_pais"
   ]
  },
  {
   "attachments": {},
   "cell_type": "markdown",
   "metadata": {},
   "source": [
    "Vamos a visualizar esta información ahora con un gráfico de barras."
   ]
  },
  {
   "cell_type": "code",
   "execution_count": 139,
   "metadata": {
    "collapsed": false
   },
   "outputs": [
    {
     "data": {
      "text/plain": [
       "<Axes: xlabel='pais'>"
      ]
     },
     "execution_count": 139,
     "metadata": {},
     "output_type": "execute_result"
    },
    {
     "data": {
      "image/png": "[encoded data removed]",
      "text/plain": [
       "<Figure size 640x480 with 1 Axes>"
      ]
     },
     "metadata": {},
     "output_type": "display_data"
    }
   ],
   "source": [
    "hist_media_voto_pais.plot(kind='bar')"
   ]
  },
  {
   "attachments": {},
   "cell_type": "markdown",
   "metadata": {},
   "source": [
    "A la vista de la información presentada, no parece haber diferencias significativas en la participación de los usuarios de cada país. De media, cada participante ha clasificado la forma de unas 25 galaxias.\n",
    "\n",
    "## Votos según la edad\n",
    "\n",
    "Sucederá lo mismo si estudiamos el número de votos medio segun la franja de edad? Completa las celdas siguientes para averiguarlo."
   ]
  },
  {
   "cell_type": "code",
   "execution_count": 140,
   "metadata": {
    "collapsed": false
   },
   "outputs": [
    {
     "data": {
      "text/plain": [
       "edad\n",
       "10.0       4\n",
       "11.0       1\n",
       "12.0       1\n",
       "13.0       2\n",
       "14.0      21\n",
       "        ... \n",
       "96.0      63\n",
       "97.0     159\n",
       "98.0      38\n",
       "99.0      30\n",
       "100.0     23\n",
       "Length: 90, dtype: int64"
      ]
     },
     "execution_count": 140,
     "metadata": {},
     "output_type": "execute_result"
    }
   ],
   "source": [
    "hist_votos_edad = sdf_combinado.groupby('edad').size() #[\"edad\"].count()\n",
    "hist_votos_edad"
   ]
  },
  {
   "cell_type": "code",
   "execution_count": 141,
   "metadata": {
    "collapsed": false
   },
   "outputs": [],
   "source": [
    "#hist_votos_edad.plot('edad', 'count', kind='scatter')"
   ]
  },
  {
   "attachments": {},
   "cell_type": "markdown",
   "metadata": {},
   "source": [
    "A primera vista vemos una distribución del número de votos según la edad muy similar a la distribución de usuarios según la edad. Esto era esperable ya que las franjas con más usuarios también serán las que deberían haber generado más clasificaciones. Para poder salir de dudas, es necesario hacer como en el caso anterior y dividir la información de los dos histogramas para calcular el número medio de votos segun la edad."
   ]
  },
  {
   "cell_type": "code",
   "execution_count": 142,
   "metadata": {
    "collapsed": false
   },
   "outputs": [
    {
     "data": {
      "text/plain": [
       "edad\n",
       "10.0    1.0\n",
       "11.0    1.0\n",
       "12.0    1.0\n",
       "13.0    1.0\n",
       "14.0    1.0\n",
       "15.0    1.0\n",
       "16.0    1.0\n",
       "17.0    1.0\n",
       "18.0    1.0\n",
       "19.0    1.0\n",
       "dtype: float64"
      ]
     },
     "execution_count": 142,
     "metadata": {},
     "output_type": "execute_result"
    }
   ],
   "source": [
    "hist_media_voto_edad = hist_votos_edad / hist_votos_edad\n",
    "hist_media_voto_edad.head(10)"
   ]
  },
  {
   "attachments": {},
   "cell_type": "markdown",
   "metadata": {},
   "source": [
    "Si ves algun valor 'NaN' en la tabla anterior, no te preocupes, corresponden a datos de usuarios o votos que han sido filtrados (por edad o tiempo)."
   ]
  },
  {
   "cell_type": "code",
   "execution_count": 143,
   "metadata": {
    "collapsed": false
   },
   "outputs": [],
   "source": [
    "#hist_media_voto_edad.reset_index().plot('edad', 'count', kind='scatter')"
   ]
  },
  {
   "attachments": {},
   "cell_type": "markdown",
   "metadata": {
    "collapsed": true
   },
   "source": [
    "Fíjate bien la gráfica anterior, pues presenta un comportamiento particular que deberás saber explicar más adelante.\n",
    "\n",
    "\n",
    "# Generar la clasificación promedio\n",
    "\n",
    "Una vez hemos limpiado y estudiado los datos y estamos conformes con su validez, es el momento de generar la clasificación ideal de cada una de las galaxias. Para ello, vamos a promediar el voto de todos los usuarios sobre cada una de las galaxias. Al habernos preocupado previamente de guardar la forma como un número (0 en caso de votar elíptica, y 1 en caso de votar espiral), esta operación va a ser muy sencilla. Si la mayoría de los usuarios han votado una imagen de una galaxia como elíptica, la media de sus votos debería ser cercana a 0. En caso contrario, si la mayoría de los votos han marcado una galaxia como espiral, la media de la columna forma debería ser cercana a 1.\n",
    "\n",
    "Antes de continuar, recordemos el aspecto del conjunto de datos combinado con el método show."
   ]
  },
  {
   "cell_type": "code",
   "execution_count": 144,
   "metadata": {
    "collapsed": false
   },
   "outputs": [
    {
     "data": {
      "text/html": [
       "<div>\n",
       "<style scoped>\n",
       "    .dataframe tbody tr th:only-of-type {\n",
       "        vertical-align: middle;\n",
       "    }\n",
       "\n",
       "    .dataframe tbody tr th {\n",
       "        vertical-align: top;\n",
       "    }\n",
       "\n",
       "    .dataframe thead th {\n",
       "        text-align: right;\n",
       "    }\n",
       "</style>\n",
       "<table border=\"1\" class=\"dataframe\">\n",
       "  <thead>\n",
       "    <tr style=\"text-align: right;\">\n",
       "      <th></th>\n",
       "      <th>id_galaxia</th>\n",
       "      <th>id_usuario</th>\n",
       "      <th>forma</th>\n",
       "      <th>tiempo</th>\n",
       "      <th>segundos</th>\n",
       "      <th>edad</th>\n",
       "      <th>pais</th>\n",
       "    </tr>\n",
       "  </thead>\n",
       "  <tbody>\n",
       "    <tr>\n",
       "      <th>0</th>\n",
       "      <td>5.877398e+17</td>\n",
       "      <td>10404</td>\n",
       "      <td>1.0</td>\n",
       "      <td>6.614253</td>\n",
       "      <td>6.0</td>\n",
       "      <td>41.0</td>\n",
       "      <td>Argentina</td>\n",
       "    </tr>\n",
       "    <tr>\n",
       "      <th>1</th>\n",
       "      <td>5.877447e+17</td>\n",
       "      <td>10404</td>\n",
       "      <td>1.0</td>\n",
       "      <td>35.489287</td>\n",
       "      <td>35.0</td>\n",
       "      <td>41.0</td>\n",
       "      <td>Argentina</td>\n",
       "    </tr>\n",
       "    <tr>\n",
       "      <th>2</th>\n",
       "      <td>5.877382e+17</td>\n",
       "      <td>10404</td>\n",
       "      <td>0.0</td>\n",
       "      <td>2.594505</td>\n",
       "      <td>2.0</td>\n",
       "      <td>41.0</td>\n",
       "      <td>Argentina</td>\n",
       "    </tr>\n",
       "    <tr>\n",
       "      <th>3</th>\n",
       "      <td>5.877353e+17</td>\n",
       "      <td>10404</td>\n",
       "      <td>1.0</td>\n",
       "      <td>3.218166</td>\n",
       "      <td>3.0</td>\n",
       "      <td>41.0</td>\n",
       "      <td>Argentina</td>\n",
       "    </tr>\n",
       "    <tr>\n",
       "      <th>4</th>\n",
       "      <td>5.880177e+17</td>\n",
       "      <td>10404</td>\n",
       "      <td>1.0</td>\n",
       "      <td>7.687656</td>\n",
       "      <td>7.0</td>\n",
       "      <td>41.0</td>\n",
       "      <td>Argentina</td>\n",
       "    </tr>\n",
       "  </tbody>\n",
       "</table>\n",
       "</div>"
      ],
      "text/plain": [
       "     id_galaxia  id_usuario  forma     tiempo  segundos  edad       pais\n",
       "0  5.877398e+17       10404    1.0   6.614253       6.0  41.0  Argentina\n",
       "1  5.877447e+17       10404    1.0  35.489287      35.0  41.0  Argentina\n",
       "2  5.877382e+17       10404    0.0   2.594505       2.0  41.0  Argentina\n",
       "3  5.877353e+17       10404    1.0   3.218166       3.0  41.0  Argentina\n",
       "4  5.880177e+17       10404    1.0   7.687656       7.0  41.0  Argentina"
      ]
     },
     "execution_count": 144,
     "metadata": {},
     "output_type": "execute_result"
    }
   ],
   "source": [
    "sdf_combinado.head(5)"
   ]
  },
  {
   "attachments": {},
   "cell_type": "markdown",
   "metadata": {},
   "source": [
    "Para generar la clasificación promedio, debemos agrupar por la columna que identifica únicamente a cada galaxia y calcular la media del campo forma. Completa la celda siguiente y ejecútala:"
   ]
  },
  {
   "cell_type": "code",
   "execution_count": 145,
   "metadata": {
    "collapsed": false
   },
   "outputs": [
    {
     "data": {
      "text/plain": [
       "0         1.0\n",
       "1         1.0\n",
       "2         0.0\n",
       "3         1.0\n",
       "4         1.0\n",
       "         ... \n",
       "188394    1.0\n",
       "190975    0.0\n",
       "191972    0.0\n",
       "207240    1.0\n",
       "214063    0.0\n",
       "Name: forma, Length: 49290, dtype: float64"
      ]
     },
     "execution_count": 145,
     "metadata": {},
     "output_type": "execute_result"
    }
   ],
   "source": [
    "sdf_clasificado = sdf_combinado.groupby('id_galaxia')[\"forma\"]\n",
    "sdf_clasificado.head()"
   ]
  },
  {
   "attachments": {},
   "cell_type": "markdown",
   "metadata": {},
   "source": [
    "En la celda anterior podemos ver como para cada galaxia hemos obtenido su forma esperada segun la media de los votos. El último paso que nos queda es guardar esta información en otra tabla, que va a ser usada en la semana siguiente para entrenar un clasificador automatizado."
   ]
  },
  {
   "cell_type": "code",
   "execution_count": 156,
   "metadata": {
    "collapsed": false
   },
   "outputs": [],
   "source": [
    "#sdf_clasificado.write.saveAsTable('target', mode='overwrite')"
   ]
  }
 ],
 "metadata": {
  "anaconda-cloud": {},
  "kernelspec": {
   "display_name": "base",
   "language": "python",
   "name": "python3"
  },
  "language_info": {
   "codemirror_mode": {
    "name": "ipython",
    "version": 3
   },
   "file_extension": ".py",
   "mimetype": "text/x-python",
   "name": "python",
   "nbconvert_exporter": "python",
   "pygments_lexer": "ipython3",
   "version": "3.9.16"
  },
  "vscode": {
   "interpreter": {
    "hash": "db8a17d265c788ec20d0692c591c27aa4cfdd6fec9cce88058e698dcb7137791"
   }
  }
 },
 "nbformat": 4,
 "nbformat_minor": 2
}
