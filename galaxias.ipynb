{
 "cells": [
  {
   "attachments": {},
   "cell_type": "markdown",
   "metadata": {},
   "source": [
    "# Proyecto Explorador de Galaxias"
   ]
  },
  {
   "attachments": {},
   "cell_type": "markdown",
   "metadata": {},
   "source": [
    "## Importamos las librerias\n"
   ]
  },
  {
   "cell_type": "code",
   "execution_count": 1,
   "metadata": {},
   "outputs": [],
   "source": [
    "%matplotlib inline\n",
    "from matplotlib import pyplot as plt\n",
    "from matplotlib import cm\n",
    "import numpy as np\n",
    "import pandas as pd"
   ]
  },
  {
   "attachments": {},
   "cell_type": "markdown",
   "metadata": {},
   "source": [
    "Definimos los ficheros csv a utilizar descargados de http://skyserver.sdss.org/dr8/ (offline)"
   ]
  },
  {
   "cell_type": "code",
   "execution_count": 2,
   "metadata": {},
   "outputs": [],
   "source": [
    "phot_obj_file = 'SDSS_PhotObj.csv'\n",
    "spec_obj_file = 'SDSS_SpecObj.csv'"
   ]
  },
  {
   "attachments": {},
   "cell_type": "markdown",
   "metadata": {},
   "source": [
    "Leemos los ficheros y los convertimos en un Dataframe"
   ]
  },
  {
   "cell_type": "code",
   "execution_count": 3,
   "metadata": {},
   "outputs": [],
   "source": [
    "df_phot = pd.read_csv(phot_obj_file)\n",
    "df_spec = pd.read_csv(spec_obj_file)"
   ]
  },
  {
   "attachments": {},
   "cell_type": "markdown",
   "metadata": {},
   "source": [
    "Las librerias pandas y numpy son muy útiles para explorar pequeños conjuntos de datos como los que estás tratando en esta fase preliminar del trabajo."
   ]
  },
  {
   "cell_type": "code",
   "execution_count": 4,
   "metadata": {},
   "outputs": [
    {
     "data": {
      "text/html": [
       "<div>\n",
       "<style scoped>\n",
       "    .dataframe tbody tr th:only-of-type {\n",
       "        vertical-align: middle;\n",
       "    }\n",
       "\n",
       "    .dataframe tbody tr th {\n",
       "        vertical-align: top;\n",
       "    }\n",
       "\n",
       "    .dataframe thead th {\n",
       "        text-align: right;\n",
       "    }\n",
       "</style>\n",
       "<table border=\"1\" class=\"dataframe\">\n",
       "  <thead>\n",
       "    <tr style=\"text-align: right;\">\n",
       "      <th></th>\n",
       "      <th>objid</th>\n",
       "      <th>fileid</th>\n",
       "      <th>ra</th>\n",
       "      <th>dec</th>\n",
       "      <th>u</th>\n",
       "      <th>g</th>\n",
       "      <th>r</th>\n",
       "      <th>i</th>\n",
       "      <th>z</th>\n",
       "      <th>field</th>\n",
       "    </tr>\n",
       "  </thead>\n",
       "  <tbody>\n",
       "    <tr>\n",
       "      <th>count</th>\n",
       "      <td>2.510000e+04</td>\n",
       "      <td>2.510000e+04</td>\n",
       "      <td>25100.000000</td>\n",
       "      <td>25100.000000</td>\n",
       "      <td>25100.000000</td>\n",
       "      <td>25100.000000</td>\n",
       "      <td>25100.000000</td>\n",
       "      <td>25100.000000</td>\n",
       "      <td>25100.000000</td>\n",
       "      <td>25100.000000</td>\n",
       "    </tr>\n",
       "    <tr>\n",
       "      <th>mean</th>\n",
       "      <td>1.237650e+18</td>\n",
       "      <td>5.880737e+17</td>\n",
       "      <td>172.709809</td>\n",
       "      <td>13.395714</td>\n",
       "      <td>4.010871</td>\n",
       "      <td>2.324260</td>\n",
       "      <td>4.651699</td>\n",
       "      <td>3.820509</td>\n",
       "      <td>1.520464</td>\n",
       "      <td>296.370598</td>\n",
       "    </tr>\n",
       "    <tr>\n",
       "      <th>std</th>\n",
       "      <td>1.645822e+12</td>\n",
       "      <td>5.033105e+14</td>\n",
       "      <td>52.534598</td>\n",
       "      <td>24.319948</td>\n",
       "      <td>394.615333</td>\n",
       "      <td>394.548394</td>\n",
       "      <td>351.787919</td>\n",
       "      <td>357.394007</td>\n",
       "      <td>384.252405</td>\n",
       "      <td>190.942690</td>\n",
       "    </tr>\n",
       "    <tr>\n",
       "      <th>min</th>\n",
       "      <td>1.237646e+18</td>\n",
       "      <td>5.877230e+17</td>\n",
       "      <td>7.103529</td>\n",
       "      <td>-9.890394</td>\n",
       "      <td>-9999.000000</td>\n",
       "      <td>-9999.000000</td>\n",
       "      <td>-9999.000000</td>\n",
       "      <td>-9999.000000</td>\n",
       "      <td>-9999.000000</td>\n",
       "      <td>11.000000</td>\n",
       "    </tr>\n",
       "    <tr>\n",
       "      <th>25%</th>\n",
       "      <td>1.237649e+18</td>\n",
       "      <td>5.877246e+17</td>\n",
       "      <td>148.757134</td>\n",
       "      <td>-0.735722</td>\n",
       "      <td>19.008747</td>\n",
       "      <td>17.506067</td>\n",
       "      <td>16.695885</td>\n",
       "      <td>16.271628</td>\n",
       "      <td>15.954477</td>\n",
       "      <td>143.000000</td>\n",
       "    </tr>\n",
       "    <tr>\n",
       "      <th>50%</th>\n",
       "      <td>1.237650e+18</td>\n",
       "      <td>5.877258e+17</td>\n",
       "      <td>179.994742</td>\n",
       "      <td>0.354240</td>\n",
       "      <td>19.622710</td>\n",
       "      <td>18.045216</td>\n",
       "      <td>17.205884</td>\n",
       "      <td>16.779042</td>\n",
       "      <td>16.464638</td>\n",
       "      <td>267.000000</td>\n",
       "    </tr>\n",
       "    <tr>\n",
       "      <th>75%</th>\n",
       "      <td>1.237651e+18</td>\n",
       "      <td>5.888489e+17</td>\n",
       "      <td>203.748629</td>\n",
       "      <td>14.889392</td>\n",
       "      <td>20.233414</td>\n",
       "      <td>18.425552</td>\n",
       "      <td>17.528970</td>\n",
       "      <td>17.093385</td>\n",
       "      <td>16.788562</td>\n",
       "      <td>431.000000</td>\n",
       "    </tr>\n",
       "    <tr>\n",
       "      <th>max</th>\n",
       "      <td>1.237679e+18</td>\n",
       "      <td>5.888489e+17</td>\n",
       "      <td>359.499393</td>\n",
       "      <td>68.727182</td>\n",
       "      <td>30.316545</td>\n",
       "      <td>28.403141</td>\n",
       "      <td>35.974701</td>\n",
       "      <td>27.389235</td>\n",
       "      <td>27.190168</td>\n",
       "      <td>812.000000</td>\n",
       "    </tr>\n",
       "  </tbody>\n",
       "</table>\n",
       "</div>"
      ],
      "text/plain": [
       "              objid        fileid            ra           dec             u  \\\n",
       "count  2.510000e+04  2.510000e+04  25100.000000  25100.000000  25100.000000   \n",
       "mean   1.237650e+18  5.880737e+17    172.709809     13.395714      4.010871   \n",
       "std    1.645822e+12  5.033105e+14     52.534598     24.319948    394.615333   \n",
       "min    1.237646e+18  5.877230e+17      7.103529     -9.890394  -9999.000000   \n",
       "25%    1.237649e+18  5.877246e+17    148.757134     -0.735722     19.008747   \n",
       "50%    1.237650e+18  5.877258e+17    179.994742      0.354240     19.622710   \n",
       "75%    1.237651e+18  5.888489e+17    203.748629     14.889392     20.233414   \n",
       "max    1.237679e+18  5.888489e+17    359.499393     68.727182     30.316545   \n",
       "\n",
       "                  g             r             i             z         field  \n",
       "count  25100.000000  25100.000000  25100.000000  25100.000000  25100.000000  \n",
       "mean       2.324260      4.651699      3.820509      1.520464    296.370598  \n",
       "std      394.548394    351.787919    357.394007    384.252405    190.942690  \n",
       "min    -9999.000000  -9999.000000  -9999.000000  -9999.000000     11.000000  \n",
       "25%       17.506067     16.695885     16.271628     15.954477    143.000000  \n",
       "50%       18.045216     17.205884     16.779042     16.464638    267.000000  \n",
       "75%       18.425552     17.528970     17.093385     16.788562    431.000000  \n",
       "max       28.403141     35.974701     27.389235     27.190168    812.000000  "
      ]
     },
     "execution_count": 4,
     "metadata": {},
     "output_type": "execute_result"
    }
   ],
   "source": [
    "df_phot.describe()"
   ]
  },
  {
   "cell_type": "code",
   "execution_count": 5,
   "metadata": {},
   "outputs": [
    {
     "data": {
      "text/plain": [
       "(25100, 10)"
      ]
     },
     "execution_count": 5,
     "metadata": {},
     "output_type": "execute_result"
    }
   ],
   "source": [
    "df_phot.shape"
   ]
  },
  {
   "cell_type": "code",
   "execution_count": 6,
   "metadata": {},
   "outputs": [
    {
     "data": {
      "text/html": [
       "<div>\n",
       "<style scoped>\n",
       "    .dataframe tbody tr th:only-of-type {\n",
       "        vertical-align: middle;\n",
       "    }\n",
       "\n",
       "    .dataframe tbody tr th {\n",
       "        vertical-align: top;\n",
       "    }\n",
       "\n",
       "    .dataframe thead th {\n",
       "        text-align: right;\n",
       "    }\n",
       "</style>\n",
       "<table border=\"1\" class=\"dataframe\">\n",
       "  <thead>\n",
       "    <tr style=\"text-align: right;\">\n",
       "      <th></th>\n",
       "      <th>objid</th>\n",
       "      <th>redshift</th>\n",
       "      <th>plate</th>\n",
       "      <th>mjd</th>\n",
       "      <th>fiberid</th>\n",
       "    </tr>\n",
       "  </thead>\n",
       "  <tbody>\n",
       "    <tr>\n",
       "      <th>count</th>\n",
       "      <td>2.510000e+04</td>\n",
       "      <td>25100.000000</td>\n",
       "      <td>25100.000000</td>\n",
       "      <td>25100.000000</td>\n",
       "      <td>25100.000000</td>\n",
       "    </tr>\n",
       "    <tr>\n",
       "      <th>mean</th>\n",
       "      <td>1.237650e+18</td>\n",
       "      <td>0.107631</td>\n",
       "      <td>379.850518</td>\n",
       "      <td>51922.240398</td>\n",
       "      <td>311.480558</td>\n",
       "    </tr>\n",
       "    <tr>\n",
       "      <th>std</th>\n",
       "      <td>1.645822e+12</td>\n",
       "      <td>0.052087</td>\n",
       "      <td>159.051898</td>\n",
       "      <td>241.208062</td>\n",
       "      <td>185.285099</td>\n",
       "    </tr>\n",
       "    <tr>\n",
       "      <th>min</th>\n",
       "      <td>1.237646e+18</td>\n",
       "      <td>-0.000146</td>\n",
       "      <td>266.000000</td>\n",
       "      <td>51608.000000</td>\n",
       "      <td>1.000000</td>\n",
       "    </tr>\n",
       "    <tr>\n",
       "      <th>25%</th>\n",
       "      <td>1.237649e+18</td>\n",
       "      <td>0.073409</td>\n",
       "      <td>293.000000</td>\n",
       "      <td>51703.000000</td>\n",
       "      <td>151.000000</td>\n",
       "    </tr>\n",
       "    <tr>\n",
       "      <th>50%</th>\n",
       "      <td>1.237650e+18</td>\n",
       "      <td>0.100497</td>\n",
       "      <td>331.000000</td>\n",
       "      <td>51910.000000</td>\n",
       "      <td>303.000000</td>\n",
       "    </tr>\n",
       "    <tr>\n",
       "      <th>75%</th>\n",
       "      <td>1.237651e+18</td>\n",
       "      <td>0.136808</td>\n",
       "      <td>446.000000</td>\n",
       "      <td>51990.000000</td>\n",
       "      <td>474.000000</td>\n",
       "    </tr>\n",
       "    <tr>\n",
       "      <th>max</th>\n",
       "      <td>1.237679e+18</td>\n",
       "      <td>0.997334</td>\n",
       "      <td>2955.000000</td>\n",
       "      <td>54584.000000</td>\n",
       "      <td>640.000000</td>\n",
       "    </tr>\n",
       "  </tbody>\n",
       "</table>\n",
       "</div>"
      ],
      "text/plain": [
       "              objid      redshift         plate           mjd       fiberid\n",
       "count  2.510000e+04  25100.000000  25100.000000  25100.000000  25100.000000\n",
       "mean   1.237650e+18      0.107631    379.850518  51922.240398    311.480558\n",
       "std    1.645822e+12      0.052087    159.051898    241.208062    185.285099\n",
       "min    1.237646e+18     -0.000146    266.000000  51608.000000      1.000000\n",
       "25%    1.237649e+18      0.073409    293.000000  51703.000000    151.000000\n",
       "50%    1.237650e+18      0.100497    331.000000  51910.000000    303.000000\n",
       "75%    1.237651e+18      0.136808    446.000000  51990.000000    474.000000\n",
       "max    1.237679e+18      0.997334   2955.000000  54584.000000    640.000000"
      ]
     },
     "execution_count": 6,
     "metadata": {},
     "output_type": "execute_result"
    }
   ],
   "source": [
    "df_spec.describe()"
   ]
  },
  {
   "cell_type": "code",
   "execution_count": 7,
   "metadata": {},
   "outputs": [
    {
     "data": {
      "text/plain": [
       "(25100, 6)"
      ]
     },
     "execution_count": 7,
     "metadata": {},
     "output_type": "execute_result"
    }
   ],
   "source": [
    "df_spec.shape"
   ]
  },
  {
   "attachments": {},
   "cell_type": "markdown",
   "metadata": {},
   "source": [
    "Obtenemos datos auxiliares"
   ]
  },
  {
   "cell_type": "code",
   "execution_count": 8,
   "metadata": {},
   "outputs": [
    {
     "data": {
      "text/plain": [
       "587739407832580481"
      ]
     },
     "execution_count": 8,
     "metadata": {},
     "output_type": "execute_result"
    }
   ],
   "source": [
    "df_phot[\"fileid\"][11]"
   ]
  },
  {
   "cell_type": "code",
   "execution_count": 9,
   "metadata": {},
   "outputs": [
    {
     "data": {
      "text/plain": [
       "46"
      ]
     },
     "execution_count": 9,
     "metadata": {},
     "output_type": "execute_result"
    }
   ],
   "source": [
    "df_phot.shape[0] - len(df_phot[\"objid\"].unique())"
   ]
  },
  {
   "cell_type": "code",
   "execution_count": 10,
   "metadata": {},
   "outputs": [
    {
     "data": {
      "text/plain": [
       "array(['GALAXY', 'STAR'], dtype=object)"
      ]
     },
     "execution_count": 10,
     "metadata": {},
     "output_type": "execute_result"
    }
   ],
   "source": [
    "df_spec[\"class\"].unique()"
   ]
  },
  {
   "cell_type": "code",
   "execution_count": 11,
   "metadata": {},
   "outputs": [
    {
     "data": {
      "text/plain": [
       "GALAXY    25080\n",
       "STAR         20\n",
       "Name: class, dtype: int64"
      ]
     },
     "execution_count": 11,
     "metadata": {},
     "output_type": "execute_result"
    }
   ],
   "source": [
    "df_spec[\"class\"].value_counts()"
   ]
  }
 ],
 "metadata": {
  "kernelspec": {
   "display_name": "base",
   "language": "python",
   "name": "python3"
  },
  "language_info": {
   "codemirror_mode": {
    "name": "ipython",
    "version": 3
   },
   "file_extension": ".py",
   "mimetype": "text/x-python",
   "name": "python",
   "nbconvert_exporter": "python",
   "pygments_lexer": "ipython3",
   "version": "3.9.16"
  },
  "orig_nbformat": 4
 },
 "nbformat": 4,
 "nbformat_minor": 2
}
